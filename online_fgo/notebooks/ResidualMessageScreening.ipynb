{
 "cells": [
  {
   "cell_type": "code",
   "execution_count": 7,
   "id": "9a838c97-14f6-4584-b823-677c7a37a936",
   "metadata": {},
   "outputs": [],
   "source": [
    "from rclpy.time import Time as ros2Time\n",
    "from rclpy.time import Duration\n",
    "\n",
    "from rosidl_runtime_py.utilities import get_message\n",
    "from rclpy.serialization import serialize_message, deserialize_message\n",
    "import rosbag2_py\n",
    "from irt_nav_msgs.msg import FactorResidual, FactorResiduals, ResidualSample\n",
    "\n",
    "BAG_PATH = \"/home/haoming/Desktop/rosbag2_2024_05_30-09_30_16/\"\n",
    "\n",
    "\n",
    "converter_options = rosbag2_py._storage.ConverterOptions('', '')\n",
    "bag_reader = rosbag2_py.SequentialReader()\n",
    "storge_opt = rosbag2_py._storage.StorageOptions(\n",
    "    uri=BAG_PATH,\n",
    "    storage_id='mcap'\n",
    ")\n",
    "bag_reader.open(storge_opt, converter_options)\n",
    "\n",
    "residuals = {}\n",
    "\n",
    "while bag_reader.has_next():\n",
    "    data_tuple = bag_reader.read_next()\n",
    "    topic = data_tuple[0]\n",
    "    data = data_tuple[1]\n",
    "    ts = data_tuple[2]\n",
    "    msg = deserialize_message(data, FactorResiduals)\n",
    "    ts_header = ros2Time(seconds=msg.header.stamp.sec, nanoseconds=msg.header.stamp.nanosec)\n",
    "\n",
    "    if ts_header.nanoseconds in residuals.keys():\n",
    "        residuals[ts_header.nanoseconds].append(msg)\n",
    "    else:\n",
    "        residuals.update({ts_header.nanoseconds: [msg]})\n"
   ]
  },
  {
   "cell_type": "code",
   "execution_count": 8,
   "id": "a7f67453-8450-4458-94ac-3dfffbec0961",
   "metadata": {},
   "outputs": [
    {
     "data": {
      "text/plain": [
       "276"
      ]
     },
     "execution_count": 8,
     "metadata": {},
     "output_type": "execute_result"
    }
   ],
   "source": [
    "len(residuals)"
   ]
  },
  {
   "cell_type": "code",
   "execution_count": null,
   "id": "522a92c4-308c-4c8f-846f-502adfcb6b68",
   "metadata": {},
   "outputs": [],
   "source": []
  },
  {
   "cell_type": "code",
   "execution_count": 14,
   "id": "bff466ea-40e3-4d92-993e-6b3c84b53998",
   "metadata": {},
   "outputs": [],
   "source": [
    "test = residuals[1606417094926298368]\n",
    "gp_res = []\n",
    "for msg in test:\n",
    "    for res in msg.residuals:\n",
    "        if res.factor_name == \"GPWNOAPriorPose3Factor\":\n",
    "            gp_res.append(res)\n"
   ]
  },
  {
   "cell_type": "code",
   "execution_count": 16,
   "id": "ea28f6ad-5971-44f2-9eec-3a67afb77de9",
   "metadata": {},
   "outputs": [
    {
     "data": {
      "text/plain": [
       "49"
      ]
     },
     "execution_count": 16,
     "metadata": {},
     "output_type": "execute_result"
    }
   ],
   "source": [
    "len(gp_res[0].samples)"
   ]
  },
  {
   "cell_type": "code",
   "execution_count": 17,
   "id": "ce4a17b9-982d-4b85-b00c-22a0f74b3d0b",
   "metadata": {},
   "outputs": [
    {
     "data": {
      "text/plain": [
       "irt_nav_msgs.msg.ResidualSample(id=0, type=1, whitened_error=[0.00027744426104518, 5.375354573807726e-05, 0.0001036285210254097, 0.0008305926248271082, 0.0017616481566364098, 0.001074435962141962, 0.0008141840435186803, -0.0003036548038049891, 0.0001670757358742811, 0.014172511015393956, -0.016159936121480763, 0.8719336279562157], unwhitened_error=[5.6255119082922135e-05, -1.5739744431626965e-05, 1.310041531266851e-05, 0.002675088682507064, -0.0027646950954501176, 0.15930593923503134, 0.0004700697057438564, -0.00017531530543811832, 9.646128860490209e-05, 0.025875364711475335, -0.02950389245796156, 1.591926836610737], loss_error=0.38036803824281157, noise_model_weight=1.0)"
      ]
     },
     "execution_count": 17,
     "metadata": {},
     "output_type": "execute_result"
    }
   ],
   "source": [
    "gp_res[0].samples[0]"
   ]
  },
  {
   "cell_type": "code",
   "execution_count": 18,
   "id": "366ea66a-65f8-4d40-931f-6cfe54e80113",
   "metadata": {},
   "outputs": [
    {
     "data": {
      "text/plain": [
       "irt_nav_msgs.msg.ResidualSample(id=1, type=3, whitened_error=[-0.026260052986594087, 5.366286157674517e-05, 0.00010325900367855564, 0.0008305838843506996, -0.002315304076779705, 0.0009977660599644889, 0.0008141840443228648, -0.00030365970690611016, 0.00016701041877952347, 0.014172502192909659, -0.018128385125507976, 0.8718968418975482], unwhitened_error=[-0.0008283287416666759, -1.574305031999403e-05, 1.3084326972287449e-05, 0.0026750861504202944, -0.0035538321210903945, 0.15929114132266609, 0.00047006970620815287, -0.000175318136246852, 9.642357773626351e-05, 0.025875348603885184, -0.03309777471635744, 1.591859674716611], loss_error=0.38071551701929557, noise_model_weight=1.0)"
      ]
     },
     "execution_count": 18,
     "metadata": {},
     "output_type": "execute_result"
    }
   ],
   "source": [
    "gp_res[0].samples[1]"
   ]
  },
  {
   "cell_type": "code",
   "execution_count": null,
   "id": "84ebc90d-53b4-447a-bfc8-4c8f5ca2441e",
   "metadata": {},
   "outputs": [],
   "source": []
  }
 ],
 "metadata": {
  "kernelspec": {
   "display_name": "Python 3 (ipykernel)",
   "language": "python",
   "name": "python3"
  },
  "language_info": {
   "codemirror_mode": {
    "name": "ipython",
    "version": 3
   },
   "file_extension": ".py",
   "mimetype": "text/x-python",
   "name": "python",
   "nbconvert_exporter": "python",
   "pygments_lexer": "ipython3",
   "version": "3.10.12"
  }
 },
 "nbformat": 4,
 "nbformat_minor": 5
}
