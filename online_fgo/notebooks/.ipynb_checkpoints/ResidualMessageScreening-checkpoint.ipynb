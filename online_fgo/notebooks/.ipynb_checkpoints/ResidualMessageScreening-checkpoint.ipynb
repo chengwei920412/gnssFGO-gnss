{
 "cells": [
  {
   "cell_type": "code",
   "execution_count": null,
   "id": "9a838c97-14f6-4584-b823-677c7a37a936",
   "metadata": {},
   "outputs": [],
   "source": [
    "from rclpy.time import Time as ros2Time\n",
    "from rclpy.time import Duration\n",
    "import ros2bag_py\n",
    "from rosidl_runtime_py.utilities import get_message\n",
    "from rclpy.serialization import serialize_message, deserialize_message\n",
    "from rosbag2_py import TopicMetadata\n",
    "\n",
    "from irt_nav_msgs.msg import FactorResidual, FactorResiduals, ResidualSample\n",
    "\n",
    "BAG_PATH = \"/home/haoming/Desktop/rosbag2_2024_05_30-09_30_16/\"\n",
    "\n",
    "\n",
    "converter_options = rosbag2_py._storage.ConverterOptions('', '')\n",
    "bag_reader = rosbag2_py.SequentialReader()\n",
    "storge_opt = rosbag2_py._storage.StorageOptions(\n",
    "    uri=BAG_PATH,\n",
    "    storage_id='mcap'\n",
    ")\n",
    "bag_reader.open(storge_opt, converter_options)\n",
    "\n",
    "residuals = []\n",
    "\n",
    "while bag_reader.has_next():\n",
    "    data_tuple = bag_reader.read_next()\n",
    "    topic = data_tuple[0]\n",
    "    data = data_tuple[1]\n",
    "    ts = data_tuple[2]\n",
    "    msg = deserialize_message(data, NavSatFix)\n"
   ]
  }
 ],
 "metadata": {
  "kernelspec": {
   "display_name": "Python 3 (ipykernel)",
   "language": "python",
   "name": "python3"
  },
  "language_info": {
   "codemirror_mode": {
    "name": "ipython",
    "version": 3
   },
   "file_extension": ".py",
   "mimetype": "text/x-python",
   "name": "python",
   "nbconvert_exporter": "python",
   "pygments_lexer": "ipython3",
   "version": "3.10.12"
  }
 },
 "nbformat": 4,
 "nbformat_minor": 5
}
